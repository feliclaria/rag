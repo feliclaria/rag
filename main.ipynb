{
 "cells": [
  {
   "cell_type": "code",
   "execution_count": 46,
   "metadata": {},
   "outputs": [],
   "source": [
    "from langchain_ollama.llms import OllamaLLM\n",
    "from langchain_ollama.embeddings import OllamaEmbeddings\n",
    "\n",
    "MODEL = \"llama2\"\n",
    "\n",
    "model = OllamaLLM(model=MODEL)\n",
    "embeddings = OllamaEmbeddings(model=MODEL)"
   ]
  },
  {
   "cell_type": "code",
   "execution_count": 47,
   "metadata": {},
   "outputs": [],
   "source": [
    "from langchain_community.document_loaders import PyPDFLoader\n",
    "\n",
    "# loader = PyPDFLoader('pdfs/test.pdf')\n",
    "loader = PyPDFLoader('pdfs/test_numerico.pdf')\n",
    "documents = loader.load()"
   ]
  },
  {
   "cell_type": "code",
   "execution_count": null,
   "metadata": {},
   "outputs": [],
   "source": [
    "documents"
   ]
  },
  {
   "cell_type": "code",
   "execution_count": 48,
   "metadata": {},
   "outputs": [],
   "source": [
    "import os\n",
    "from dotenv import load_dotenv\n",
    "\n",
    "load_dotenv('.env')\n",
    "\n",
    "PINECONE_API_KEY = os.environ.get('PINECONE_API_KEY')\n",
    "PINECONE_API_REGION = os.environ.get('PINECONE_API_REGION')"
   ]
  },
  {
   "cell_type": "code",
   "execution_count": 49,
   "metadata": {},
   "outputs": [],
   "source": [
    "from pinecone import Pinecone, ServerlessSpec\n",
    "from langchain_pinecone.vectorstores import PineconeVectorStore\n",
    "import time\n",
    "\n",
    "pc = Pinecone(api_key=PINECONE_API_KEY)\n",
    "serverless_spec = ServerlessSpec(cloud=\"aws\", region=PINECONE_API_REGION)\n",
    "\n",
    "index_name = \"test-numerico\"\n",
    "\n",
    "existing_indexes = [index_info[\"name\"] for index_info in pc.list_indexes()]\n",
    "if index_name not in existing_indexes:\n",
    "    pc.create_index(\n",
    "        name=index_name,\n",
    "        dimension=4096,\n",
    "        metric=\"cosine\",\n",
    "        spec=serverless_spec,\n",
    "    )\n",
    "    while not pc.describe_index(index_name).status[\"ready\"]:\n",
    "        time.sleep(1)\n",
    "\n",
    "index = pc.Index(index_name)"
   ]
  },
  {
   "cell_type": "code",
   "execution_count": 50,
   "metadata": {},
   "outputs": [],
   "source": [
    "vector_store = PineconeVectorStore(index=index, embedding=embeddings)\n",
    "\n",
    "if index.describe_index_stats()[\"total_vector_count\"] == 0:\n",
    "    vector_store.add_documents(documents)\n",
    "\n",
    "retriever = vector_store.as_retriever()"
   ]
  },
  {
   "cell_type": "code",
   "execution_count": 51,
   "metadata": {},
   "outputs": [],
   "source": [
    "from langchain.prompts import PromptTemplate\n",
    "\n",
    "template = \"\"\"\n",
    "Respondé a la siguiente pregunta basada en el contexto dado a continuación.\n",
    "Si no podés responder a la pregunta, respondé con \"No tengo una respuesta.\"\n",
    "\n",
    "Contexto: {context}\n",
    "\n",
    "Pregunta: {question}\n",
    "\"\"\"\n",
    "\n",
    "prompt = PromptTemplate.from_template(template)"
   ]
  },
  {
   "cell_type": "code",
   "execution_count": 52,
   "metadata": {},
   "outputs": [],
   "source": [
    "import langchain_core.output_parsers\n",
    "\n",
    "parser = langchain_core.output_parsers.StrOutputParser()"
   ]
  },
  {
   "cell_type": "code",
   "execution_count": 53,
   "metadata": {},
   "outputs": [],
   "source": [
    "from operator import itemgetter\n",
    "\n",
    "chain = (\n",
    "    {\n",
    "        \"context\": itemgetter(\"question\") | retriever,\n",
    "        \"question\": itemgetter(\"question\"),\n",
    "    }\n",
    "    | prompt\n",
    "    | model\n",
    "    | parser\n",
    ")"
   ]
  },
  {
   "cell_type": "code",
   "execution_count": 57,
   "metadata": {},
   "outputs": [
    {
     "name": "stdout",
     "output_type": "stream",
     "text": [
      "'Pregunta: Listar todas las secciones del documento'\n",
      "('Respuesta: A continuación, se presentan todas las secciones del documento:\\n'\n",
      " '\\n'\n",
      " '1. Introducción: Discute el objetivo del análisis numérico y los conceptos '\n",
      " 'básicos que se utilizarán a lo largo del trabajo. (página 0.0)\\n'\n",
      " '2. Análisis numérico: Define el análisis numérico y sus ventajas en '\n",
      " 'comparación con otros métodos de resolución de ecuaciones diferenciales. '\n",
      " '(página 0.1)\\n'\n",
      " '3. Modelos lineales y no lineales: Describe los modelos lineales y no '\n",
      " 'lineales que se pueden resolver mediante el análisis numérico. (página 0.2)\\n'\n",
      " '4. Métodos de diferencias finitas: Presenta los métodos de diferencias '\n",
      " 'finitas y sus ventajas en términos de precisión y velocidad de cálculo. '\n",
      " '(página 0.3)\\n'\n",
      " '5. Esquema de diferencias finitas central: Describe el esquema de '\n",
      " 'diferencias finitas central y su implementación para resolver ecuaciones '\n",
      " 'diferenciales no lineales. (página 0.4)\\n'\n",
      " '6. Esquema de diferencias finitas centrada: Presenta el esquema de '\n",
      " 'diferencias finitas centrada y cómo se utiliza para resolver ecuaciones '\n",
      " 'diferenciales no lineales. (página 0.5)\\n'\n",
      " '7. Esquema de diferencias finitas upwind: Describe el esquema de diferencias '\n",
      " 'finitas upwind y cómo se utiliza para resolver ecuaciones diferenciales no '\n",
      " 'lineales. (página 0.6)\\n'\n",
      " '8. Ejercicios: Proporciona ejemplos prácticos de cómo aplicar los métodos de '\n",
      " 'análisis numérico para resolver problemas de ecuaciones diferenciales no '\n",
      " 'lineales. (página 0.7)\\n'\n",
      " '9. Respuesta: Presenta la solución del ejercicio 6 y compara los resultados '\n",
      " 'de los métodos de diferencias finitas central, upwind y Newton. (página 0.8)')\n",
      "\n",
      "'Pregunta: ¿Qué pide el ejercicio 6?'\n",
      "('Respuesta: El ejercicio 6 pide resolver un sistema de ecuaciones '\n",
      " 'diferenciales ordinarias de segundo orden utilizando el método de '\n",
      " 'diferencias finitas centradas. En concreto, se trata de encontrar la '\n",
      " 'solución de la ecuación:\\n'\n",
      " '\\n'\n",
      " '$$\\\\frac{d^2x}{dt^2} + \\\\frac{1}{h}\\\\left(-\\\\epsilon + '\n",
      " '\\\\frac{b-a}{n}\\\\right)x = F(t)$$\\n'\n",
      " '\\n'\n",
      " 'donde $x(t)$ es la solución buscada, $h$ es un parámetro pequeño que '\n",
      " 'representa la pequeñez de las distancias temporales, $\\\\epsilon$ es un '\n",
      " 'parámetro que representa la pequeñez de la entrada inicial, y $a$, $b$ son '\n",
      " 'dos números que representan los límites de la solución.\\n'\n",
      " '\\n'\n",
      " 'El método de diferencias finitas centradas consiste en dividir el dominio de '\n",
      " 'la ecuación en tres regiones: una región superior, una región inferior y una '\n",
      " 'región central. En la región superior se encuentra la entrada inicial $x(0) '\n",
      " '= u_0$, en la región inferior se encuentra la salida $x(T) = u_f$, y en la '\n",
      " 'región central se encuentra la solución de la ecuación.\\n'\n",
      " '\\n'\n",
      " 'El método consiste en calcular la solución de la ecuación en cada punto de '\n",
      " 'la región central, utilizando una matriz tridiagonal que representa las '\n",
      " 'condiciones de la ecuación en los límites de la región. El código '\n",
      " 'proporcionado en el ejercicio 6 describe cómo implementar este método para '\n",
      " 'resolver el sistema de ecuaciones diferenciales ordinarias.')\n",
      "\n",
      "'Pregunta: ¿Cuál es la respuesta al inciso a. del ejercicio 6?'\n",
      "('Respuesta: En el código que proporcionaste, la respuesta al inciso a) del '\n",
      " 'ejerciso 6 se puede obtener de la siguiente manera:\\n'\n",
      " '\\n'\n",
      " '1. En la línea 13, `F[0] = F[0] - ua * (e + h/2)`\\n'\n",
      " '\\n'\n",
      " 'Donde `ua` es un vector de entradas con una sola elemento, que en este caso '\n",
      " 'es `1`. Entonces, `F[0]` representa la contribución del término inicial al '\n",
      " 'valor de `F` en el punto `x=0`.\\n'\n",
      " '\\n'\n",
      " '2. En la línea 14, `F[-1] = F[-1] - ub * (e - h/2)`\\n'\n",
      " '\\n'\n",
      " 'Donde `ub` es un vector de entradas con una sola elemento, que en este caso '\n",
      " 'es `3`. Entonces, `F[-1]` representa la contribución del término final al '\n",
      " 'valor de `F` en el punto `x=-\\\\infty`.\\n'\n",
      " '\\n'\n",
      " '3. En la línea 15, `A = sup + inf + diag`\\n'\n",
      " '\\n'\n",
      " 'Donde `sup`, `inf`, y `diag` son matrices que se definen más adelante en el '\n",
      " 'código. La suma de estas matrices produce la matriz `A`.\\n'\n",
      " '\\n'\n",
      " '4. En la línea 16, `F = h**2 * f(x)`\\n'\n",
      " '\\n'\n",
      " 'Donde `f(x)` es una función desconocida que depende del valor de `x`.\\n'\n",
      " '\\n'\n",
      " '5. En la línea 17, `U = np.linalg.solve(A, F)`\\n'\n",
      " '\\n'\n",
      " 'Donde `np.linalg.solve()` es un método para resolver sistemas lineales. La '\n",
      " 'matriz `A` se obtiene multiplicando los valores de `sup`, `inf`, y `diag` '\n",
      " 'como se define más adelante en el código, y la matriz `F` se obtiene '\n",
      " 'multiplicando los valores de `h**2 * f(x)` y `-ua * (e + h/2)`, como se '\n",
      " 'define más adelante en el código.\\n'\n",
      " '\\n'\n",
      " '6. En la línea 18, `U_full = np.concatenate(([a], x, [b]))`\\n'\n",
      " '\\n'\n",
      " 'Donde `a`, `x`, y `b` son valores desconocidos que se pueden calcular a '\n",
      " 'partir de las condiciones iniciales y final del problema.\\n'\n",
      " '\\n'\n",
      " '7. En la línea 19, `U_full = np.concatenate(([ua], U, [ub]))`\\n'\n",
      " '\\n'\n",
      " 'Donde `ua`, `U`, y `ub` son valores desconocidos que se pueden calcular a '\n",
      " 'partir de las condiciones iniciales y final del problema.\\n'\n",
      " '\\n'\n",
      " '8. En la línea 20, `return x_full, U_full`\\n'\n",
      " '\\n'\n",
      " 'Donde `x_full` y `U_full` son las matrices de solución del sistema lineal y '\n",
      " 'el valor de `F` en el punto `x=0`, respectivamente.\\n'\n",
      " '\\n'\n",
      " 'De esta manera, la respuesta al inciso a) del ejercicio 6 se puede obtener '\n",
      " 'como:\\\\n\\n'\n",
      " '- (2ϵ + h)U1 + ϵU2 = -h2 - (ϵ + h)\\\\n\\n'\n",
      " '\\n'\n",
      " 'Donde `U1` y `U2` son las matrices de solución del sistema lineal en el '\n",
      " 'punto `x=0`.')\n",
      "\n"
     ]
    }
   ],
   "source": [
    "questions = [\n",
    "    \"Listar todas las secciones del documento\",\n",
    "    \"¿Qué pide el ejercicio 6?\",\n",
    "    \"¿Cuál es la respuesta al inciso a. del ejercicio 6?\",\n",
    "]\n",
    "\n",
    "from pprint import pprint\n",
    "\n",
    "for question in questions:\n",
    "    pprint(f\"Pregunta: {question}\")\n",
    "    pprint(f\"Respuesta: {chain.invoke({'question': question})}\")\n",
    "    print()"
   ]
  },
  {
   "cell_type": "code",
   "execution_count": 54,
   "metadata": {},
   "outputs": [],
   "source": [
    "questions = [\n",
    "    \"¿Quiénes son los autores?\",\n",
    "    \"¿De qué trata el documento?\",\n",
    "    \"¿Cuál es la hipótesis?\",\n",
    "    \"¿Cuáles son los objetivos de cada semana?\",\n",
    "]"
   ]
  },
  {
   "cell_type": "code",
   "execution_count": 39,
   "metadata": {},
   "outputs": [
    {
     "name": "stdout",
     "output_type": "stream",
     "text": [
      "Question: ¿Quiénes son los autores?\n",
      "Answer: La pregunta que has proporcionado es una pregunta contextual, ya que no hay suficiente información disponible en el documento para responder de manera precisa. La autoría del documento no está claramente establecida en la pregunta, por lo que no tengo una respuesta definitiva. Sin embargo, si necesitas más información sobre los autores o el documento en general, estaré encantado de ayudarte en el futuro.\n",
      "\n",
      "Question: ¿De qué trata el documento?\n",
      "Answer: El documento se centra en investigar las ventajas de Retrieval Augmented Generation (RAG) para mejorar la precisión y calidad de las respuestas generadas por modelos de lenguaje. Se analiza cómo RAG puede optimizar la respuesta a preguntas complejas, especializadas o que requieren información actualizada, superando algunas de las limitaciones inherentes a los modelos de lenguaje tradicionales. Los objetivos del proyecto incluyen clasificar los tipos de preguntas que son adecuadas para el enfoque de RAG y evaluar la efectividad de esta estrategia en comparación con modelos que no la implementan. Se hipotiza que el uso de RAG proporcionará respuestas más precisas y contextualmente relevantes que un modelo de lenguaje tradicional en la mayoría de los casos, especialmente cuando se trata de preguntas que requieren información actualizada o específica de un dominio acotado.\n",
      "\n",
      "Question: ¿Cuál es la hipótesis?\n",
      "Answer: La hipótesis es que el uso de Retrieval Augmented Generation (RAG) proporciona respuestas más precisas y contextualmente relevantes que un Large Language Model (LLM) tradicional en la mayor parte de los casos, especialmente con preguntas que requieren información actualizada o específica de un dominio acotado.\n",
      "\n",
      "Question: ¿Cuáles son los objetivos de cada semana?\n",
      "Answer: Los objetivos de cada semana se pueden deducir a partir del texto proporcionado. A continuación, te presento una breve descripción de cada semana y sus objetivos:\n",
      "\n",
      "Semana 1:\n",
      "Objectivo: Revisar la literatura sobre RAG y definir los contextos específicos.\n",
      "\n",
      "* Se revisará la literatura existente sobre Retrieval Augmented Generation (RAG) para identificar las estrategias y técnicas utilizadas en laLiteraturaReview\n",
      "* Se definirán los contextos específicos del estudio, incluyendo los dominios de texto y las preguntas específicas que se utilizarán para evaluar el rendimiento de RAG.\n",
      "\n",
      "Semana 2:\n",
      "Objectivo: Extraer y preparar datos de fuentes relevantes.\n",
      "\n",
      "* Se extragerán datos de fuentes relevantes para el estudio, utilizando técnicas de preprocesamiento y limpieza de datos.\n",
      "* Se implementarán técnicas de preprocesamiento para mejorar la calidad de los datos.\n",
      "\n",
      "Semana 3:\n",
      "Objectivo: Desarrollar y entrenar modelos utilizando los datos extraídos.\n",
      "\n",
      "* Se desarrollarán modelos especializados en RAG para evaluar su rendimiento en diferentes contextos.\n",
      "* Se entrenarán los modelos utilizando los datos extraídos, con el objetivo de mejorar la calidad de las respuestas generadas.\n",
      "\n",
      "Semana 4:\n",
      "Objectivo: Evaluar la efectividad de RAG en preguntas ambiguas y especializadas.\n",
      "\n",
      "* Se evaluará la efectividad de RAG en preguntas ambiguas y especializadas, utilizando diferentes tipos de datos.\n",
      "* Se analizará la calidad de las respuestas generadas por los modelos, identificando fortalezas y debilidades en el rendimiento de RAG.\n",
      "\n",
      "Semana 5:\n",
      "Objectivo: Elaborar el informe final con las comparaciones realizadas y las conclusiones.\n",
      "\n",
      "* Se elaborará un informe final que incluya las comparaciones realizadas entre los modelos y las estrategias utilizadas en RAG.\n",
      "* Se presentarán las conclusiones del estudio, identificando los resultados principales y las implicaciones de estos para el uso de RAG en Large Language Models.\n",
      "\n"
     ]
    }
   ],
   "source": [
    "from pprint import pprint\n",
    "\n",
    "for question in questions:\n",
    "    pprint(f\"Pregunta: {question}\")\n",
    "    pprint(f\"Respuesta: {chain.invoke({'question': question})}\")\n",
    "    pprint()"
   ]
  },
  {
   "cell_type": "code",
   "execution_count": 40,
   "metadata": {},
   "outputs": [],
   "source": [
    "# chain.batch([{\"question\": q} for q in questions])"
   ]
  },
  {
   "cell_type": "code",
   "execution_count": 41,
   "metadata": {},
   "outputs": [],
   "source": [
    "# for s in chain.stream([{\"question\": q} for q in questions]):\n",
    "#     print(s, end=\"\", flush=True)"
   ]
  }
 ],
 "metadata": {
  "kernelspec": {
   "display_name": "env",
   "language": "python",
   "name": "python3"
  },
  "language_info": {
   "codemirror_mode": {
    "name": "ipython",
    "version": 3
   },
   "file_extension": ".py",
   "mimetype": "text/x-python",
   "name": "python",
   "nbconvert_exporter": "python",
   "pygments_lexer": "ipython3",
   "version": "3.12.7"
  }
 },
 "nbformat": 4,
 "nbformat_minor": 2
}
